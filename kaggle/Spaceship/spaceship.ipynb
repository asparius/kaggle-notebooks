{
 "cells": [
  {
   "cell_type": "code",
   "execution_count": 478,
   "id": "48726e21",
   "metadata": {},
   "outputs": [
    {
     "name": "stdout",
     "output_type": "stream",
     "text": [
      "Requirement already satisfied: xgboost in c:\\users\\ocaga\\anaconda3\\lib\\site-packages (1.6.1)\n",
      "Requirement already satisfied: scipy in c:\\users\\ocaga\\anaconda3\\lib\\site-packages (from xgboost) (1.7.3)\n",
      "Requirement already satisfied: numpy in c:\\users\\ocaga\\anaconda3\\lib\\site-packages (from xgboost) (1.21.5)\n"
     ]
    }
   ],
   "source": [
    "import pandas as pd\n",
    "import numpy as np\n",
    "import matplotlib.pyplot as plt\n",
    "from sklearn.impute import SimpleImputer\n",
    "from sklearn.preprocessing import OneHotEncoder\n",
    "import sys\n",
    "!{sys.executable} -m pip install xgboost\n",
    "from xgboost import XGBClassifier\n",
    "from sklearn.model_selection import cross_val_score\n",
    "from sklearn.ensemble import AdaBoostClassifier,BaggingClassifier,ExtraTreesClassifier,GradientBoostingClassifier,HistGradientBoostingClassifier,RandomForestClassifier,StackingClassifier\n"
   ]
  },
  {
   "cell_type": "code",
   "execution_count": 479,
   "id": "11717256",
   "metadata": {},
   "outputs": [],
   "source": [
    "X_train = pd.read_csv(\"train.csv\")\n",
    "X_test = pd.read_csv(\"test.csv\")\n",
    "y_train = X_train[\"Transported\"]\n",
    "X_train.drop([\"Transported\",\"Name\"],axis = 1,inplace = True)\n",
    "X_test.drop(\"Name\",axis = 1, inplace = True)"
   ]
  },
  {
   "cell_type": "code",
   "execution_count": 480,
   "id": "e1d4d463",
   "metadata": {},
   "outputs": [],
   "source": [
    "X_train[\"PassengerId\"] = X_train[\"PassengerId\"].astype(str)\n",
    "X_test[\"PassengerId\"] = X_test[\"PassengerId\"].astype(str)\n",
    "\n",
    "Id_train = X_train[\"PassengerId\"]\n",
    "Id_test = X_test[\"PassengerId\"]"
   ]
  },
  {
   "cell_type": "code",
   "execution_count": 481,
   "id": "4269aef3",
   "metadata": {},
   "outputs": [],
   "source": [
    "X_train[\"Group\"] = X_train[\"PassengerId\"]\n",
    "X_test[\"Group\"] = X_test[\"PassengerId\"]"
   ]
  },
  {
   "cell_type": "code",
   "execution_count": 482,
   "id": "bfe1e794",
   "metadata": {},
   "outputs": [],
   "source": [
    "X_train[\"Group\"] = X_train[\"Group\"].apply(lambda x : x[-2:])\n",
    "X_train[\"Id\"]= X_train[\"PassengerId\"].apply(lambda x: x[:-3])\n",
    "\n",
    "\n",
    "X_train[\"Group\"] = X_train[\"Group\"].apply(lambda x : x[-2:])\n",
    "X_test[\"Id\"]= X_test[\"PassengerId\"].apply(lambda x: x[:-3])"
   ]
  },
  {
   "cell_type": "code",
   "execution_count": 483,
   "id": "b14a571b",
   "metadata": {},
   "outputs": [],
   "source": [
    "X_train[\"Group\"] = X_train[\"Group\"].astype(int)\n",
    "X_test[\"Group\"] = X_test[\"Group\"].astype(int)\n"
   ]
  },
  {
   "cell_type": "code",
   "execution_count": 484,
   "id": "7f6dad7c",
   "metadata": {},
   "outputs": [],
   "source": [
    "\n",
    "\n",
    "\n",
    "\n",
    "X_train.drop([\"Id\",\"PassengerId\"],axis = 1,inplace = True)\n",
    "X_test.drop([\"Id\",\"PassengerId\"],axis = 1,inplace = True)"
   ]
  },
  {
   "cell_type": "code",
   "execution_count": 485,
   "id": "ab6eee85",
   "metadata": {},
   "outputs": [],
   "source": [
    "X_train[\"Cabin\"] = X_train[\"Cabin\"].astype(str) \n",
    "X_test[\"Cabin\"] = X_test[\"Cabin\"].astype(str) "
   ]
  },
  {
   "cell_type": "code",
   "execution_count": 486,
   "id": "d344d443",
   "metadata": {},
   "outputs": [],
   "source": [
    "X_train[\"Cabin_0\"] = X_train[\"Cabin\"].apply(lambda x: x[0])\n",
    "X_train[\"Cabin_1\"] = X_train[\"Cabin\"].apply(lambda x: x[2:-2])\n",
    "X_train[\"Cabin_2\"] = X_train[\"Cabin\"].apply(lambda x : x[-1])\n",
    "\n",
    "\n",
    "\n",
    "X_test[\"Cabin_0\"] = X_test[\"Cabin\"].apply(lambda x: x[0])\n",
    "X_test[\"Cabin_1\"] = X_test[\"Cabin\"].apply(lambda x: x[2:-2])\n",
    "X_test[\"Cabin_2\"] = X_test[\"Cabin\"].apply(lambda x : x[-1])"
   ]
  },
  {
   "cell_type": "code",
   "execution_count": 487,
   "id": "93b798c8",
   "metadata": {},
   "outputs": [],
   "source": [
    "X_train.drop([\"Cabin\",\"Cabin_1\"],axis = 1, inplace = True)\n",
    "X_test.drop([\"Cabin\",\"Cabin_1\"],axis = 1, inplace = True)"
   ]
  },
  {
   "cell_type": "code",
   "execution_count": 488,
   "id": "64394e72",
   "metadata": {},
   "outputs": [],
   "source": [
    "s = (X_train.dtypes == 'object')\n",
    "object_cols = list(s[s].index)\n",
    "num_X_train = X_train.drop(object_cols, axis=1)\n",
    "num_X_test = X_test.drop(object_cols,axis = 1)\n"
   ]
  },
  {
   "cell_type": "code",
   "execution_count": 489,
   "id": "dc929f8e",
   "metadata": {},
   "outputs": [],
   "source": [
    "num_imputer = SimpleImputer()\n",
    "imputed_X_train = pd.DataFrame(num_imputer.fit_transform(num_X_train))\n",
    "imputed_X_test = pd.DataFrame(num_imputer.transform(num_X_test))\n",
    "imputed_X_train.columns = num_X_train.columns\n",
    "imputed_X_test.columns = num_X_test.columns\n"
   ]
  },
  {
   "cell_type": "code",
   "execution_count": 490,
   "id": "cdc9151e",
   "metadata": {},
   "outputs": [],
   "source": [
    "imputed_X_train[\"Totalspent\"] = imputed_X_train[\"RoomService\"] + imputed_X_train[\"FoodCourt\"] + imputed_X_train[\"ShoppingMall\"] + imputed_X_train[\"Spa\"] + imputed_X_train[\"VRDeck\"]\n",
    "imputed_X_test[\"Totalspent\"] = imputed_X_test[\"RoomService\"] + imputed_X_test[\"FoodCourt\"] + imputed_X_test[\"ShoppingMall\"] + imputed_X_test[\"Spa\"] + imputed_X_test[\"VRDeck\"]"
   ]
  },
  {
   "cell_type": "code",
   "execution_count": 491,
   "id": "27507c74",
   "metadata": {},
   "outputs": [],
   "source": [
    "ob_X_train = X_train[object_cols]\n",
    "ob_X_test = X_test[object_cols]"
   ]
  },
  {
   "cell_type": "code",
   "execution_count": 492,
   "id": "68be2b66",
   "metadata": {},
   "outputs": [],
   "source": [
    "OH_encoder = OneHotEncoder(handle_unknown = \"ignore\",sparse = False)\n",
    "oh_X_train = pd.DataFrame(OH_encoder.fit_transform(ob_X_train))\n",
    "oh_X_test = pd.DataFrame(OH_encoder.transform(ob_X_test))\n",
    "oh_X_train.index = X_train.index\n",
    "oh_X_test.index = X_test.index"
   ]
  },
  {
   "cell_type": "code",
   "execution_count": 493,
   "id": "ba919815",
   "metadata": {},
   "outputs": [],
   "source": [
    "x_train = pd.concat([oh_X_train,imputed_X_train],axis = 1)\n",
    "x_test = pd.concat([oh_X_test,imputed_X_test],axis = 1)"
   ]
  },
  {
   "cell_type": "code",
   "execution_count": 494,
   "id": "7242182b",
   "metadata": {},
   "outputs": [],
   "source": [
    "y_train = np.asarray([1 if i == True else 0 for i in y_train])"
   ]
  },
  {
   "cell_type": "code",
   "execution_count": 495,
   "id": "5b51f5bb",
   "metadata": {},
   "outputs": [
    {
     "name": "stdout",
     "output_type": "stream",
     "text": [
      "Mean cross-validation score: 0.79\n"
     ]
    }
   ],
   "source": [
    "clf = XGBClassifier(max_depth = 30,learning_rate = 0.01,n_estimators = 150)\n",
    "clf.fit(x_train,y_train)\n",
    "scores = cross_val_score(clf, x_train, y_train, cv=10)\n",
    "print(\"Mean cross-validation score: %.2f\" % scores.mean())"
   ]
  },
  {
   "cell_type": "code",
   "execution_count": 496,
   "id": "1131c51d",
   "metadata": {},
   "outputs": [],
   "source": [
    "x_train = x_train.to_numpy()"
   ]
  },
  {
   "cell_type": "code",
   "execution_count": 497,
   "id": "a0e38450",
   "metadata": {},
   "outputs": [
    {
     "data": {
      "text/plain": [
       "(8693, 34)"
      ]
     },
     "execution_count": 497,
     "metadata": {},
     "output_type": "execute_result"
    }
   ],
   "source": [
    "a.shape"
   ]
  },
  {
   "cell_type": "code",
   "execution_count": 498,
   "id": "5d32405e",
   "metadata": {},
   "outputs": [
    {
     "name": "stdout",
     "output_type": "stream",
     "text": [
      "model index AdaBoostClassifier\n",
      "Mean cross-validation score: 0.79\n",
      "model index BaggingClassifier\n",
      "Mean cross-validation score: 0.78\n",
      "model index ExtraTreesClassifier\n",
      "Mean cross-validation score: 0.77\n",
      "model index GradientBoostingClassifier\n",
      "Mean cross-validation score: 0.80\n",
      "model index HistGradientBoostingClassifier\n",
      "Mean cross-validation score: 0.80\n",
      "model index RandomForestClassifier\n",
      "Mean cross-validation score: 0.79\n"
     ]
    }
   ],
   "source": [
    "models = []\n",
    "AdaBoostClassifier = AdaBoostClassifier()\n",
    "BaggingClassifier = BaggingClassifier()\n",
    "ExtraTreesClassifier = ExtraTreesClassifier()\n",
    "GradientBoostingClassifier = GradientBoostingClassifier()\n",
    "HistGradientBoostingClassifier = HistGradientBoostingClassifier()\n",
    "RandomForestClassifier = RandomForestClassifier()\n",
    "models.append(AdaBoostClassifier)\n",
    "models.append(BaggingClassifier)\n",
    "models.append(ExtraTreesClassifier)\n",
    "models.append(GradientBoostingClassifier)\n",
    "models.append(HistGradientBoostingClassifier)\n",
    "models.append(RandomForestClassifier)\n",
    "i = 0\n",
    "for model in models:\n",
    "    model.fit(x_train,y_train)\n",
    "    scores = cross_val_score(model, x_train, y_train, cv=10)\n",
    "    print(f'model index {type(model).__name__}')\n",
    "    print(\"Mean cross-validation score: %.2f\" % scores.mean())\n"
   ]
  },
  {
   "cell_type": "code",
   "execution_count": null,
   "id": "5458b7ee",
   "metadata": {},
   "outputs": [],
   "source": []
  },
  {
   "cell_type": "code",
   "execution_count": 499,
   "id": "6a49ebb1",
   "metadata": {},
   "outputs": [],
   "source": [
    "predictions = pd.DataFrame(GradientBoostingClassifier.predict(x_test.to_numpy()))\n",
    "Id = pd.DataFrame(Id_test)\n",
    "output = pd.concat([Id,predictions],axis = 1)"
   ]
  },
  {
   "cell_type": "code",
   "execution_count": 500,
   "id": "f1c8e2c8",
   "metadata": {},
   "outputs": [],
   "source": [
    "output.rename(columns = {\"Id\": \"PassengerId\", 0: \"Transported\"},inplace=True)"
   ]
  },
  {
   "cell_type": "code",
   "execution_count": 501,
   "id": "c710aa78",
   "metadata": {},
   "outputs": [],
   "source": [
    "def bool(x):\n",
    "    if x == 1:\n",
    "        return True\n",
    "    else:\n",
    "        return False\n",
    "output[\"Transported\"]= output[\"Transported\"].apply(bool)"
   ]
  },
  {
   "cell_type": "code",
   "execution_count": 502,
   "id": "15a8be75",
   "metadata": {},
   "outputs": [
    {
     "data": {
      "text/html": [
       "<div>\n",
       "<style scoped>\n",
       "    .dataframe tbody tr th:only-of-type {\n",
       "        vertical-align: middle;\n",
       "    }\n",
       "\n",
       "    .dataframe tbody tr th {\n",
       "        vertical-align: top;\n",
       "    }\n",
       "\n",
       "    .dataframe thead th {\n",
       "        text-align: right;\n",
       "    }\n",
       "</style>\n",
       "<table border=\"1\" class=\"dataframe\">\n",
       "  <thead>\n",
       "    <tr style=\"text-align: right;\">\n",
       "      <th></th>\n",
       "      <th>PassengerId</th>\n",
       "      <th>Transported</th>\n",
       "    </tr>\n",
       "  </thead>\n",
       "  <tbody>\n",
       "    <tr>\n",
       "      <th>0</th>\n",
       "      <td>0013_01</td>\n",
       "      <td>True</td>\n",
       "    </tr>\n",
       "    <tr>\n",
       "      <th>1</th>\n",
       "      <td>0018_01</td>\n",
       "      <td>False</td>\n",
       "    </tr>\n",
       "    <tr>\n",
       "      <th>2</th>\n",
       "      <td>0019_01</td>\n",
       "      <td>True</td>\n",
       "    </tr>\n",
       "    <tr>\n",
       "      <th>3</th>\n",
       "      <td>0021_01</td>\n",
       "      <td>True</td>\n",
       "    </tr>\n",
       "    <tr>\n",
       "      <th>4</th>\n",
       "      <td>0023_01</td>\n",
       "      <td>True</td>\n",
       "    </tr>\n",
       "    <tr>\n",
       "      <th>...</th>\n",
       "      <td>...</td>\n",
       "      <td>...</td>\n",
       "    </tr>\n",
       "    <tr>\n",
       "      <th>4272</th>\n",
       "      <td>9266_02</td>\n",
       "      <td>True</td>\n",
       "    </tr>\n",
       "    <tr>\n",
       "      <th>4273</th>\n",
       "      <td>9269_01</td>\n",
       "      <td>False</td>\n",
       "    </tr>\n",
       "    <tr>\n",
       "      <th>4274</th>\n",
       "      <td>9271_01</td>\n",
       "      <td>True</td>\n",
       "    </tr>\n",
       "    <tr>\n",
       "      <th>4275</th>\n",
       "      <td>9273_01</td>\n",
       "      <td>True</td>\n",
       "    </tr>\n",
       "    <tr>\n",
       "      <th>4276</th>\n",
       "      <td>9277_01</td>\n",
       "      <td>True</td>\n",
       "    </tr>\n",
       "  </tbody>\n",
       "</table>\n",
       "<p>4277 rows × 2 columns</p>\n",
       "</div>"
      ],
      "text/plain": [
       "     PassengerId  Transported\n",
       "0        0013_01         True\n",
       "1        0018_01        False\n",
       "2        0019_01         True\n",
       "3        0021_01         True\n",
       "4        0023_01         True\n",
       "...          ...          ...\n",
       "4272     9266_02         True\n",
       "4273     9269_01        False\n",
       "4274     9271_01         True\n",
       "4275     9273_01         True\n",
       "4276     9277_01         True\n",
       "\n",
       "[4277 rows x 2 columns]"
      ]
     },
     "execution_count": 502,
     "metadata": {},
     "output_type": "execute_result"
    }
   ],
   "source": [
    "output"
   ]
  },
  {
   "cell_type": "code",
   "execution_count": 503,
   "id": "63c2e96e",
   "metadata": {},
   "outputs": [],
   "source": [
    "output.to_csv(\"prediction.csv\",index = False)"
   ]
  },
  {
   "cell_type": "code",
   "execution_count": null,
   "id": "be85d8df",
   "metadata": {},
   "outputs": [],
   "source": []
  }
 ],
 "metadata": {
  "kernelspec": {
   "display_name": "Python 3 (ipykernel)",
   "language": "python",
   "name": "python3"
  },
  "language_info": {
   "codemirror_mode": {
    "name": "ipython",
    "version": 3
   },
   "file_extension": ".py",
   "mimetype": "text/x-python",
   "name": "python",
   "nbconvert_exporter": "python",
   "pygments_lexer": "ipython3",
   "version": "3.9.12"
  }
 },
 "nbformat": 4,
 "nbformat_minor": 5
}
